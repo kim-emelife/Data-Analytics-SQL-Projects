{
 "cells": [
  {
   "cell_type": "markdown",
   "id": "0f61fef2",
   "metadata": {},
   "source": [
    "# 4.10 Instacart Final Analysis\n",
    "\n",
    "### Table of Contents\n",
    "\n",
    "01. Import\n",
    "\n",
    "02. Creating Flags\n",
    "\n",
    "03. Creating subsets\n",
    "\n",
    "04. Creating charts"
   ]
  },
  {
   "cell_type": "code",
   "execution_count": 1,
   "id": "d7dd079c",
   "metadata": {},
   "outputs": [],
   "source": [
    "# Import libraries\n",
    "import pandas as pd\n",
    "import numpy as np\n",
    "import os\n",
    "import matplotlib.pyplot as plt\n",
    "import seaborn as sns\n",
    "import scipy"
   ]
  },
  {
   "cell_type": "code",
   "execution_count": 2,
   "id": "ab294ddf",
   "metadata": {},
   "outputs": [],
   "source": [
    "#Importing customers_orders_products.pkl dataframe\n",
    "path = r'C:\\Users\\31622\\OneDrive\\Documents\\Career Foundry\\Career Foundry\\Exercise\\Exercise 4\\Instacart Basket Analysis'\n",
    "instacart_clean = pd.read_pickle(os.path.join(path, '02 Data', 'Prepared Data', 'instacart_clean.pkl'))"
   ]
  },
  {
   "cell_type": "markdown",
   "id": "0bc2c949",
   "metadata": {},
   "source": [
    "**Question 3: Create an exclusion flag for low-activity customers (customers with less than 5 orders) and exclude them from the data. Export this sample.**"
   ]
  },
  {
   "cell_type": "code",
   "execution_count": 3,
   "id": "29079ef3",
   "metadata": {},
   "outputs": [
    {
     "data": {
      "text/plain": [
       "Index(['order_id', 'user_id', 'number_of_orders', 'orders_day_of_week',\n",
       "       'order_hour_of_day', 'days_since_prior_order', 'product_id',\n",
       "       'add_to_cart_order', 'reordered', 'product_name', 'aisle_id',\n",
       "       'department_id', 'prices', '_merge', 'price_range_loc', 'busiest_day',\n",
       "       'busiest_days', 'busiest_period_of_day', 'max_order', 'loyalty_flag',\n",
       "       'mean_price', 'Spending_flag', 'median_days', 'frequency_flag',\n",
       "       'Gender', 'STATE', 'Age', 'date_joined', 'Num_of_dependants',\n",
       "       'Marital_status', 'income', 'Region'],\n",
       "      dtype='object')"
      ]
     },
     "execution_count": 3,
     "metadata": {},
     "output_type": "execute_result"
    }
   ],
   "source": [
    "# check column of data frame\n",
    "instacart_clean.columns"
   ]
  },
  {
   "cell_type": "markdown",
   "id": "9eb6cfc7",
   "metadata": {},
   "source": [
    "#### 02. Create Flags"
   ]
  },
  {
   "cell_type": "code",
   "execution_count": 4,
   "id": "83b89227",
   "metadata": {},
   "outputs": [],
   "source": [
    "# create flag based on max_order related to customer activity\n",
    "instacart_clean.loc[instacart_clean['max_order'] >= 5, 'customer_activity'] = 'High_active_customer'"
   ]
  },
  {
   "cell_type": "code",
   "execution_count": 5,
   "id": "7d9efa2c",
   "metadata": {},
   "outputs": [],
   "source": [
    "instacart_clean.loc[instacart_clean['max_order'] < 5, 'customer_activity'] = 'Low_active_customer'"
   ]
  },
  {
   "cell_type": "markdown",
   "id": "fbe1ed15",
   "metadata": {},
   "source": [
    "#### 03. Create Subset"
   ]
  },
  {
   "cell_type": "code",
   "execution_count": 6,
   "id": "b29a84eb",
   "metadata": {},
   "outputs": [],
   "source": [
    "# create subset for low activity customer\n",
    "df_low_activity = instacart_clean[instacart_clean['customer_activity'] == 'Low_active_customer']"
   ]
  },
  {
   "cell_type": "code",
   "execution_count": 7,
   "id": "a9606876",
   "metadata": {},
   "outputs": [],
   "source": [
    "df_high_activity = instacart_clean[instacart_clean['customer_activity'] == 'High_active_customer']"
   ]
  },
  {
   "cell_type": "code",
   "execution_count": 8,
   "id": "aaf974b7",
   "metadata": {},
   "outputs": [
    {
     "data": {
      "text/plain": [
       "(30992664, 33)"
      ]
     },
     "execution_count": 8,
     "metadata": {},
     "output_type": "execute_result"
    }
   ],
   "source": [
    "#checking shape of subsets\n",
    "df_high_activity.shape"
   ]
  },
  {
   "cell_type": "code",
   "execution_count": 9,
   "id": "2b778908",
   "metadata": {},
   "outputs": [
    {
     "data": {
      "text/plain": [
       "(1441548, 33)"
      ]
     },
     "execution_count": 9,
     "metadata": {},
     "output_type": "execute_result"
    }
   ],
   "source": [
    "df_low_activity.shape"
   ]
  },
  {
   "cell_type": "code",
   "execution_count": 10,
   "id": "1354971b",
   "metadata": {},
   "outputs": [],
   "source": [
    "#export high activity df\n",
    "df_high_activity.to_pickle(os.path.join(path, '02 Data', 'Prepared Data', 'high_active_cust.pkl'))"
   ]
  },
  {
   "cell_type": "markdown",
   "id": "b5d32a67",
   "metadata": {},
   "source": [
    "**Question 5: Customer Profiling**"
   ]
  },
  {
   "cell_type": "code",
   "execution_count": 11,
   "id": "af24f4e2",
   "metadata": {},
   "outputs": [],
   "source": [
    "# Importing high activity data\n",
    "instacart_high = pd.read_pickle(os.path.join(path, '02 Data', 'Prepared Data', 'high_active_cust.pkl'))"
   ]
  },
  {
   "cell_type": "code",
   "execution_count": 12,
   "id": "19f042ab",
   "metadata": {},
   "outputs": [
    {
     "data": {
      "text/html": [
       "<div>\n",
       "<style scoped>\n",
       "    .dataframe tbody tr th:only-of-type {\n",
       "        vertical-align: middle;\n",
       "    }\n",
       "\n",
       "    .dataframe tbody tr th {\n",
       "        vertical-align: top;\n",
       "    }\n",
       "\n",
       "    .dataframe thead th {\n",
       "        text-align: right;\n",
       "    }\n",
       "</style>\n",
       "<table border=\"1\" class=\"dataframe\">\n",
       "  <thead>\n",
       "    <tr style=\"text-align: right;\">\n",
       "      <th></th>\n",
       "      <th>order_id</th>\n",
       "      <th>user_id</th>\n",
       "      <th>number_of_orders</th>\n",
       "      <th>orders_day_of_week</th>\n",
       "      <th>order_hour_of_day</th>\n",
       "      <th>days_since_prior_order</th>\n",
       "      <th>product_id</th>\n",
       "      <th>add_to_cart_order</th>\n",
       "      <th>reordered</th>\n",
       "      <th>product_name</th>\n",
       "      <th>...</th>\n",
       "      <th>frequency_flag</th>\n",
       "      <th>Gender</th>\n",
       "      <th>STATE</th>\n",
       "      <th>Age</th>\n",
       "      <th>date_joined</th>\n",
       "      <th>Num_of_dependants</th>\n",
       "      <th>Marital_status</th>\n",
       "      <th>income</th>\n",
       "      <th>Region</th>\n",
       "      <th>customer_activity</th>\n",
       "    </tr>\n",
       "  </thead>\n",
       "  <tbody>\n",
       "    <tr>\n",
       "      <th>0</th>\n",
       "      <td>2539329</td>\n",
       "      <td>1</td>\n",
       "      <td>1</td>\n",
       "      <td>2</td>\n",
       "      <td>8</td>\n",
       "      <td>NaN</td>\n",
       "      <td>196</td>\n",
       "      <td>1</td>\n",
       "      <td>0</td>\n",
       "      <td>Soda</td>\n",
       "      <td>...</td>\n",
       "      <td>Non-frequent customer</td>\n",
       "      <td>Female</td>\n",
       "      <td>Alabama</td>\n",
       "      <td>31</td>\n",
       "      <td>2/17/2019</td>\n",
       "      <td>3</td>\n",
       "      <td>married</td>\n",
       "      <td>40423</td>\n",
       "      <td>South</td>\n",
       "      <td>High_active_customer</td>\n",
       "    </tr>\n",
       "    <tr>\n",
       "      <th>1</th>\n",
       "      <td>2398795</td>\n",
       "      <td>1</td>\n",
       "      <td>2</td>\n",
       "      <td>3</td>\n",
       "      <td>7</td>\n",
       "      <td>15.0</td>\n",
       "      <td>196</td>\n",
       "      <td>1</td>\n",
       "      <td>1</td>\n",
       "      <td>Soda</td>\n",
       "      <td>...</td>\n",
       "      <td>Non-frequent customer</td>\n",
       "      <td>Female</td>\n",
       "      <td>Alabama</td>\n",
       "      <td>31</td>\n",
       "      <td>2/17/2019</td>\n",
       "      <td>3</td>\n",
       "      <td>married</td>\n",
       "      <td>40423</td>\n",
       "      <td>South</td>\n",
       "      <td>High_active_customer</td>\n",
       "    </tr>\n",
       "    <tr>\n",
       "      <th>2</th>\n",
       "      <td>473747</td>\n",
       "      <td>1</td>\n",
       "      <td>3</td>\n",
       "      <td>3</td>\n",
       "      <td>12</td>\n",
       "      <td>21.0</td>\n",
       "      <td>196</td>\n",
       "      <td>1</td>\n",
       "      <td>1</td>\n",
       "      <td>Soda</td>\n",
       "      <td>...</td>\n",
       "      <td>Non-frequent customer</td>\n",
       "      <td>Female</td>\n",
       "      <td>Alabama</td>\n",
       "      <td>31</td>\n",
       "      <td>2/17/2019</td>\n",
       "      <td>3</td>\n",
       "      <td>married</td>\n",
       "      <td>40423</td>\n",
       "      <td>South</td>\n",
       "      <td>High_active_customer</td>\n",
       "    </tr>\n",
       "    <tr>\n",
       "      <th>3</th>\n",
       "      <td>2254736</td>\n",
       "      <td>1</td>\n",
       "      <td>4</td>\n",
       "      <td>4</td>\n",
       "      <td>7</td>\n",
       "      <td>29.0</td>\n",
       "      <td>196</td>\n",
       "      <td>1</td>\n",
       "      <td>1</td>\n",
       "      <td>Soda</td>\n",
       "      <td>...</td>\n",
       "      <td>Non-frequent customer</td>\n",
       "      <td>Female</td>\n",
       "      <td>Alabama</td>\n",
       "      <td>31</td>\n",
       "      <td>2/17/2019</td>\n",
       "      <td>3</td>\n",
       "      <td>married</td>\n",
       "      <td>40423</td>\n",
       "      <td>South</td>\n",
       "      <td>High_active_customer</td>\n",
       "    </tr>\n",
       "    <tr>\n",
       "      <th>4</th>\n",
       "      <td>431534</td>\n",
       "      <td>1</td>\n",
       "      <td>5</td>\n",
       "      <td>4</td>\n",
       "      <td>15</td>\n",
       "      <td>28.0</td>\n",
       "      <td>196</td>\n",
       "      <td>1</td>\n",
       "      <td>1</td>\n",
       "      <td>Soda</td>\n",
       "      <td>...</td>\n",
       "      <td>Non-frequent customer</td>\n",
       "      <td>Female</td>\n",
       "      <td>Alabama</td>\n",
       "      <td>31</td>\n",
       "      <td>2/17/2019</td>\n",
       "      <td>3</td>\n",
       "      <td>married</td>\n",
       "      <td>40423</td>\n",
       "      <td>South</td>\n",
       "      <td>High_active_customer</td>\n",
       "    </tr>\n",
       "  </tbody>\n",
       "</table>\n",
       "<p>5 rows × 33 columns</p>\n",
       "</div>"
      ],
      "text/plain": [
       "   order_id  user_id  number_of_orders  orders_day_of_week  order_hour_of_day  \\\n",
       "0   2539329        1                 1                   2                  8   \n",
       "1   2398795        1                 2                   3                  7   \n",
       "2    473747        1                 3                   3                 12   \n",
       "3   2254736        1                 4                   4                  7   \n",
       "4    431534        1                 5                   4                 15   \n",
       "\n",
       "   days_since_prior_order  product_id  add_to_cart_order  reordered  \\\n",
       "0                     NaN         196                  1          0   \n",
       "1                    15.0         196                  1          1   \n",
       "2                    21.0         196                  1          1   \n",
       "3                    29.0         196                  1          1   \n",
       "4                    28.0         196                  1          1   \n",
       "\n",
       "  product_name  ...         frequency_flag  Gender    STATE Age date_joined  \\\n",
       "0         Soda  ...  Non-frequent customer  Female  Alabama  31   2/17/2019   \n",
       "1         Soda  ...  Non-frequent customer  Female  Alabama  31   2/17/2019   \n",
       "2         Soda  ...  Non-frequent customer  Female  Alabama  31   2/17/2019   \n",
       "3         Soda  ...  Non-frequent customer  Female  Alabama  31   2/17/2019   \n",
       "4         Soda  ...  Non-frequent customer  Female  Alabama  31   2/17/2019   \n",
       "\n",
       "  Num_of_dependants Marital_status income  Region     customer_activity  \n",
       "0                 3        married  40423   South  High_active_customer  \n",
       "1                 3        married  40423   South  High_active_customer  \n",
       "2                 3        married  40423   South  High_active_customer  \n",
       "3                 3        married  40423   South  High_active_customer  \n",
       "4                 3        married  40423   South  High_active_customer  \n",
       "\n",
       "[5 rows x 33 columns]"
      ]
     },
     "execution_count": 12,
     "metadata": {},
     "output_type": "execute_result"
    }
   ],
   "source": [
    "instacart_high.head()"
   ]
  },
  {
   "cell_type": "markdown",
   "id": "e0019e56",
   "metadata": {},
   "source": [
    "Age"
   ]
  },
  {
   "cell_type": "code",
   "execution_count": 13,
   "id": "3dce88fc",
   "metadata": {},
   "outputs": [
    {
     "data": {
      "text/plain": [
       "81"
      ]
     },
     "execution_count": 13,
     "metadata": {},
     "output_type": "execute_result"
    }
   ],
   "source": [
    "# Checking Maxamimum Age\n",
    "instacart_high['Age'].max()"
   ]
  },
  {
   "cell_type": "code",
   "execution_count": 14,
   "id": "da6c20d3",
   "metadata": {},
   "outputs": [
    {
     "data": {
      "text/plain": [
       "18"
      ]
     },
     "execution_count": 14,
     "metadata": {},
     "output_type": "execute_result"
    }
   ],
   "source": [
    "# checking Minimum Age\n",
    "instacart_high['Age'].min()"
   ]
  },
  {
   "cell_type": "code",
   "execution_count": 15,
   "id": "42fc4f8f",
   "metadata": {},
   "outputs": [],
   "source": [
    "# create new flags for age groups\n",
    "instacart_high.loc[instacart_high['Age'] >=60, 'age_group'] = 'Older_Age'\n",
    "instacart_high.loc[(instacart_high['Age'] >35) & (instacart_high['Age'] <60), 'age_group'] = 'Middle_Age'\n",
    "instacart_high.loc[instacart_high['Age'] <=35, 'age_group'] = 'Young_Age'"
   ]
  },
  {
   "cell_type": "code",
   "execution_count": 16,
   "id": "0c1dc822",
   "metadata": {},
   "outputs": [
    {
     "data": {
      "text/plain": [
       "Middle_Age    11661944\n",
       "Older_Age     10583941\n",
       "Young_Age      8746779\n",
       "Name: age_group, dtype: int64"
      ]
     },
     "execution_count": 16,
     "metadata": {},
     "output_type": "execute_result"
    }
   ],
   "source": [
    "instacart_high['age_group'].value_counts(dropna=False)"
   ]
  },
  {
   "cell_type": "code",
   "execution_count": 17,
   "id": "010b40d2",
   "metadata": {},
   "outputs": [
    {
     "data": {
      "text/html": [
       "<div>\n",
       "<style scoped>\n",
       "    .dataframe tbody tr th:only-of-type {\n",
       "        vertical-align: middle;\n",
       "    }\n",
       "\n",
       "    .dataframe tbody tr th {\n",
       "        vertical-align: top;\n",
       "    }\n",
       "\n",
       "    .dataframe thead th {\n",
       "        text-align: right;\n",
       "    }\n",
       "</style>\n",
       "<table border=\"1\" class=\"dataframe\">\n",
       "  <thead>\n",
       "    <tr style=\"text-align: right;\">\n",
       "      <th></th>\n",
       "      <th>order_id</th>\n",
       "      <th>user_id</th>\n",
       "      <th>number_of_orders</th>\n",
       "      <th>orders_day_of_week</th>\n",
       "      <th>order_hour_of_day</th>\n",
       "      <th>days_since_prior_order</th>\n",
       "      <th>product_id</th>\n",
       "      <th>add_to_cart_order</th>\n",
       "      <th>reordered</th>\n",
       "      <th>product_name</th>\n",
       "      <th>...</th>\n",
       "      <th>Gender</th>\n",
       "      <th>STATE</th>\n",
       "      <th>Age</th>\n",
       "      <th>date_joined</th>\n",
       "      <th>Num_of_dependants</th>\n",
       "      <th>Marital_status</th>\n",
       "      <th>income</th>\n",
       "      <th>Region</th>\n",
       "      <th>customer_activity</th>\n",
       "      <th>age_group</th>\n",
       "    </tr>\n",
       "  </thead>\n",
       "  <tbody>\n",
       "    <tr>\n",
       "      <th>0</th>\n",
       "      <td>2539329</td>\n",
       "      <td>1</td>\n",
       "      <td>1</td>\n",
       "      <td>2</td>\n",
       "      <td>8</td>\n",
       "      <td>NaN</td>\n",
       "      <td>196</td>\n",
       "      <td>1</td>\n",
       "      <td>0</td>\n",
       "      <td>Soda</td>\n",
       "      <td>...</td>\n",
       "      <td>Female</td>\n",
       "      <td>Alabama</td>\n",
       "      <td>31</td>\n",
       "      <td>2/17/2019</td>\n",
       "      <td>3</td>\n",
       "      <td>married</td>\n",
       "      <td>40423</td>\n",
       "      <td>South</td>\n",
       "      <td>High_active_customer</td>\n",
       "      <td>Young_Age</td>\n",
       "    </tr>\n",
       "    <tr>\n",
       "      <th>1</th>\n",
       "      <td>2398795</td>\n",
       "      <td>1</td>\n",
       "      <td>2</td>\n",
       "      <td>3</td>\n",
       "      <td>7</td>\n",
       "      <td>15.0</td>\n",
       "      <td>196</td>\n",
       "      <td>1</td>\n",
       "      <td>1</td>\n",
       "      <td>Soda</td>\n",
       "      <td>...</td>\n",
       "      <td>Female</td>\n",
       "      <td>Alabama</td>\n",
       "      <td>31</td>\n",
       "      <td>2/17/2019</td>\n",
       "      <td>3</td>\n",
       "      <td>married</td>\n",
       "      <td>40423</td>\n",
       "      <td>South</td>\n",
       "      <td>High_active_customer</td>\n",
       "      <td>Young_Age</td>\n",
       "    </tr>\n",
       "    <tr>\n",
       "      <th>2</th>\n",
       "      <td>473747</td>\n",
       "      <td>1</td>\n",
       "      <td>3</td>\n",
       "      <td>3</td>\n",
       "      <td>12</td>\n",
       "      <td>21.0</td>\n",
       "      <td>196</td>\n",
       "      <td>1</td>\n",
       "      <td>1</td>\n",
       "      <td>Soda</td>\n",
       "      <td>...</td>\n",
       "      <td>Female</td>\n",
       "      <td>Alabama</td>\n",
       "      <td>31</td>\n",
       "      <td>2/17/2019</td>\n",
       "      <td>3</td>\n",
       "      <td>married</td>\n",
       "      <td>40423</td>\n",
       "      <td>South</td>\n",
       "      <td>High_active_customer</td>\n",
       "      <td>Young_Age</td>\n",
       "    </tr>\n",
       "    <tr>\n",
       "      <th>3</th>\n",
       "      <td>2254736</td>\n",
       "      <td>1</td>\n",
       "      <td>4</td>\n",
       "      <td>4</td>\n",
       "      <td>7</td>\n",
       "      <td>29.0</td>\n",
       "      <td>196</td>\n",
       "      <td>1</td>\n",
       "      <td>1</td>\n",
       "      <td>Soda</td>\n",
       "      <td>...</td>\n",
       "      <td>Female</td>\n",
       "      <td>Alabama</td>\n",
       "      <td>31</td>\n",
       "      <td>2/17/2019</td>\n",
       "      <td>3</td>\n",
       "      <td>married</td>\n",
       "      <td>40423</td>\n",
       "      <td>South</td>\n",
       "      <td>High_active_customer</td>\n",
       "      <td>Young_Age</td>\n",
       "    </tr>\n",
       "    <tr>\n",
       "      <th>4</th>\n",
       "      <td>431534</td>\n",
       "      <td>1</td>\n",
       "      <td>5</td>\n",
       "      <td>4</td>\n",
       "      <td>15</td>\n",
       "      <td>28.0</td>\n",
       "      <td>196</td>\n",
       "      <td>1</td>\n",
       "      <td>1</td>\n",
       "      <td>Soda</td>\n",
       "      <td>...</td>\n",
       "      <td>Female</td>\n",
       "      <td>Alabama</td>\n",
       "      <td>31</td>\n",
       "      <td>2/17/2019</td>\n",
       "      <td>3</td>\n",
       "      <td>married</td>\n",
       "      <td>40423</td>\n",
       "      <td>South</td>\n",
       "      <td>High_active_customer</td>\n",
       "      <td>Young_Age</td>\n",
       "    </tr>\n",
       "  </tbody>\n",
       "</table>\n",
       "<p>5 rows × 34 columns</p>\n",
       "</div>"
      ],
      "text/plain": [
       "   order_id  user_id  number_of_orders  orders_day_of_week  order_hour_of_day  \\\n",
       "0   2539329        1                 1                   2                  8   \n",
       "1   2398795        1                 2                   3                  7   \n",
       "2    473747        1                 3                   3                 12   \n",
       "3   2254736        1                 4                   4                  7   \n",
       "4    431534        1                 5                   4                 15   \n",
       "\n",
       "   days_since_prior_order  product_id  add_to_cart_order  reordered  \\\n",
       "0                     NaN         196                  1          0   \n",
       "1                    15.0         196                  1          1   \n",
       "2                    21.0         196                  1          1   \n",
       "3                    29.0         196                  1          1   \n",
       "4                    28.0         196                  1          1   \n",
       "\n",
       "  product_name  ...  Gender    STATE  Age date_joined Num_of_dependants  \\\n",
       "0         Soda  ...  Female  Alabama   31   2/17/2019                 3   \n",
       "1         Soda  ...  Female  Alabama   31   2/17/2019                 3   \n",
       "2         Soda  ...  Female  Alabama   31   2/17/2019                 3   \n",
       "3         Soda  ...  Female  Alabama   31   2/17/2019                 3   \n",
       "4         Soda  ...  Female  Alabama   31   2/17/2019                 3   \n",
       "\n",
       "  Marital_status income Region     customer_activity  age_group  \n",
       "0        married  40423  South  High_active_customer  Young_Age  \n",
       "1        married  40423  South  High_active_customer  Young_Age  \n",
       "2        married  40423  South  High_active_customer  Young_Age  \n",
       "3        married  40423  South  High_active_customer  Young_Age  \n",
       "4        married  40423  South  High_active_customer  Young_Age  \n",
       "\n",
       "[5 rows x 34 columns]"
      ]
     },
     "execution_count": 17,
     "metadata": {},
     "output_type": "execute_result"
    }
   ],
   "source": [
    "# checking column\n",
    "instacart_high.head()"
   ]
  },
  {
   "cell_type": "markdown",
   "id": "858e0004",
   "metadata": {},
   "source": [
    "Income"
   ]
  },
  {
   "cell_type": "markdown",
   "id": "50390e45",
   "metadata": {},
   "source": [
    "**Income grouping created based on Pew's Research centre income grouping - Low income: 38200, Middle income: 38200 - 114400, High income: above 114400**"
   ]
  },
  {
   "cell_type": "code",
   "execution_count": 18,
   "id": "8c326f36",
   "metadata": {},
   "outputs": [],
   "source": [
    "# Create an income flag for the three categories\n",
    "instacart_high.loc[(instacart_high['income'] < 38200 ), 'income_group'] = 'low_income'\n",
    "instacart_high.loc[(instacart_high['income'] >= 38200 ) & (instacart_high['income'] < 114400), 'income_group'] = 'middle_income'\n",
    "instacart_high.loc[(instacart_high['income'] >= 114400 ), 'income_group'] = 'high_income'"
   ]
  },
  {
   "cell_type": "code",
   "execution_count": 19,
   "id": "d49a7186",
   "metadata": {},
   "outputs": [
    {
     "data": {
      "text/plain": [
       "middle_income    19130626\n",
       "high_income      10514934\n",
       "low_income        1347104\n",
       "Name: income_group, dtype: int64"
      ]
     },
     "execution_count": 19,
     "metadata": {},
     "output_type": "execute_result"
    }
   ],
   "source": [
    "instacart_high['income_group'].value_counts(dropna=False)"
   ]
  },
  {
   "cell_type": "code",
   "execution_count": 20,
   "id": "241f5cb6",
   "metadata": {},
   "outputs": [
    {
     "data": {
      "image/png": "[encoded data removed]",
      "text/plain": [
       "<Figure size 640x480 with 1 Axes>"
      ]
     },
     "metadata": {},
     "output_type": "display_data"
    }
   ],
   "source": [
    "# create a bar chart chart for income group\n",
    "bar_income_grp = instacart_high['income_group'].value_counts().plot.bar()\n",
    "plt.title('Frequency Income Group')\n",
    "plt.legend(loc='center left', bbox_to_anchor=(1.0, 0.5))\n",
    "plt.gcf().axes[0].yaxis.get_major_formatter().set_scientific(False)"
   ]
  },
  {
   "cell_type": "code",
   "execution_count": 21,
   "id": "44158cf8",
   "metadata": {},
   "outputs": [],
   "source": [
    "#export bar chart for income group\n",
    "bar_income_grp.figure.savefig(os.path.join(path, '04 Analysis','Visualizations', 'bar_income_group.png'))"
   ]
  },
  {
   "cell_type": "markdown",
   "id": "e4bbc1f4",
   "metadata": {},
   "source": [
    "Dependents"
   ]
  },
  {
   "cell_type": "code",
   "execution_count": 22,
   "id": "766ed9e1",
   "metadata": {},
   "outputs": [
    {
     "data": {
      "text/plain": [
       "3"
      ]
     },
     "execution_count": 22,
     "metadata": {},
     "output_type": "execute_result"
    }
   ],
   "source": [
    "# Checking Maxamimum Dependants\n",
    "instacart_high['Num_of_dependants'].max()"
   ]
  },
  {
   "cell_type": "code",
   "execution_count": 23,
   "id": "973876c4",
   "metadata": {},
   "outputs": [
    {
     "data": {
      "text/plain": [
       "0"
      ]
     },
     "execution_count": 23,
     "metadata": {},
     "output_type": "execute_result"
    }
   ],
   "source": [
    "# Checking Minimum Dependants\n",
    "instacart_high['Num_of_dependants'].min()"
   ]
  },
  {
   "cell_type": "code",
   "execution_count": 24,
   "id": "3e5bee12",
   "metadata": {},
   "outputs": [],
   "source": [
    "# Create flag for the no. of dependants \n",
    "instacart_high.loc[instacart_high['Num_of_dependants'] == 0, 'dependant_group'] = 'No_Dependants'\n",
    "instacart_high.loc[instacart_high['Num_of_dependants'] >0, 'dependant_group'] = 'Dependants'"
   ]
  },
  {
   "cell_type": "code",
   "execution_count": 25,
   "id": "76defe36",
   "metadata": {},
   "outputs": [],
   "source": [
    "# Exporting instacart_high customer data\n",
    "instacart_high.to_pickle(os.path.join(path, '02 Data', 'Prepared Data', 'instacart_high.pkl'))"
   ]
  }
 ],
 "metadata": {
  "kernelspec": {
   "display_name": "Python 3 (ipykernel)",
   "language": "python",
   "name": "python3"
  },
  "language_info": {
   "codemirror_mode": {
    "name": "ipython",
    "version": 3
   },
   "file_extension": ".py",
   "mimetype": "text/x-python",
   "name": "python",
   "nbconvert_exporter": "python",
   "pygments_lexer": "ipython3",
   "version": "3.11.3"
  }
 },
 "nbformat": 4,
 "nbformat_minor": 5
}
