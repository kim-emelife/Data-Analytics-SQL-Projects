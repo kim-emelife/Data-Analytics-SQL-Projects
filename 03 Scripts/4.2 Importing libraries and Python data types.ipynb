{
 "cells": [
  {
   "cell_type": "markdown",
   "id": "24490bfa",
   "metadata": {},
   "source": [
    "#01.Importing libraries"
   ]
  },
  {
   "cell_type": "code",
   "execution_count": 1,
   "id": "febac247",
   "metadata": {},
   "outputs": [],
   "source": [
    "# Import libraries\n",
    "import pandas as pd\n",
    "import numpy as np\n",
    "import os"
   ]
  },
  {
   "cell_type": "markdown",
   "id": "6837c6ff",
   "metadata": {},
   "source": [
    "#02.Data Types"
   ]
  },
  {
   "cell_type": "code",
   "execution_count": 2,
   "id": "2435ea15",
   "metadata": {},
   "outputs": [],
   "source": [
    "x = 25"
   ]
  },
  {
   "cell_type": "code",
   "execution_count": 3,
   "id": "6048e4b7",
   "metadata": {},
   "outputs": [
    {
     "data": {
      "text/plain": [
       "100"
      ]
     },
     "execution_count": 3,
     "metadata": {},
     "output_type": "execute_result"
    }
   ],
   "source": [
    "x + 75"
   ]
  },
  {
   "cell_type": "code",
   "execution_count": 4,
   "id": "0c843f7a",
   "metadata": {},
   "outputs": [
    {
     "data": {
      "text/plain": [
       "100"
      ]
     },
     "execution_count": 4,
     "metadata": {},
     "output_type": "execute_result"
    }
   ],
   "source": [
    "125 - x"
   ]
  },
  {
   "cell_type": "code",
   "execution_count": 5,
   "id": "f30880ac",
   "metadata": {},
   "outputs": [],
   "source": [
    "x = x + 25"
   ]
  },
  {
   "cell_type": "code",
   "execution_count": 6,
   "id": "02086fda",
   "metadata": {},
   "outputs": [
    {
     "data": {
      "text/plain": [
       "100"
      ]
     },
     "execution_count": 6,
     "metadata": {},
     "output_type": "execute_result"
    }
   ],
   "source": [
    "x + 50"
   ]
  },
  {
   "cell_type": "code",
   "execution_count": 7,
   "id": "86512328",
   "metadata": {},
   "outputs": [],
   "source": [
    "y = 9.45"
   ]
  },
  {
   "cell_type": "code",
   "execution_count": 8,
   "id": "e945d4f8",
   "metadata": {},
   "outputs": [],
   "source": [
    "x = 1.25"
   ]
  },
  {
   "cell_type": "code",
   "execution_count": 9,
   "id": "b7c15c0c",
   "metadata": {},
   "outputs": [
    {
     "data": {
      "text/plain": [
       "7.56"
      ]
     },
     "execution_count": 9,
     "metadata": {},
     "output_type": "execute_result"
    }
   ],
   "source": [
    "y / x"
   ]
  },
  {
   "cell_type": "code",
   "execution_count": 10,
   "id": "9f75d1e0",
   "metadata": {},
   "outputs": [
    {
     "data": {
      "text/plain": [
       "3.5660377358490565"
      ]
     },
     "execution_count": 10,
     "metadata": {},
     "output_type": "execute_result"
    }
   ],
   "source": [
    "y / 2.65"
   ]
  },
  {
   "cell_type": "code",
   "execution_count": 11,
   "id": "082a5f7b",
   "metadata": {},
   "outputs": [],
   "source": [
    "a = 'b'"
   ]
  },
  {
   "cell_type": "code",
   "execution_count": 12,
   "id": "da526a41",
   "metadata": {},
   "outputs": [],
   "source": [
    "b = 'y'"
   ]
  },
  {
   "cell_type": "code",
   "execution_count": 13,
   "id": "26ffc08c",
   "metadata": {},
   "outputs": [],
   "source": [
    "c = 'e'"
   ]
  },
  {
   "cell_type": "code",
   "execution_count": 14,
   "id": "3b40e42f",
   "metadata": {},
   "outputs": [
    {
     "data": {
      "text/plain": [
       "'bye'"
      ]
     },
     "execution_count": 14,
     "metadata": {},
     "output_type": "execute_result"
    }
   ],
   "source": [
    "a + b + c"
   ]
  },
  {
   "cell_type": "code",
   "execution_count": 15,
   "id": "f96e9e5b",
   "metadata": {},
   "outputs": [],
   "source": [
    "a = 'Learning'"
   ]
  },
  {
   "cell_type": "code",
   "execution_count": 16,
   "id": "d3c33778",
   "metadata": {},
   "outputs": [],
   "source": [
    "b = 'data'"
   ]
  },
  {
   "cell_type": "code",
   "execution_count": 17,
   "id": "9a274784",
   "metadata": {},
   "outputs": [],
   "source": [
    "c = 'is'"
   ]
  },
  {
   "cell_type": "code",
   "execution_count": 18,
   "id": "d1db7704",
   "metadata": {},
   "outputs": [],
   "source": [
    "d = 'fun'"
   ]
  },
  {
   "cell_type": "code",
   "execution_count": 19,
   "id": "55b21d8d",
   "metadata": {},
   "outputs": [
    {
     "data": {
      "text/plain": [
       "'Learning data is fun'"
      ]
     },
     "execution_count": 19,
     "metadata": {},
     "output_type": "execute_result"
    }
   ],
   "source": [
    "a + ' ' + b + ' ' + c + ' ' + d"
   ]
  },
  {
   "cell_type": "code",
   "execution_count": 20,
   "id": "a7ec1152",
   "metadata": {},
   "outputs": [],
   "source": [
    "e = 'Keep'"
   ]
  },
  {
   "cell_type": "code",
   "execution_count": 21,
   "id": "6fd3fa8e",
   "metadata": {},
   "outputs": [],
   "source": [
    "f = 'calm'"
   ]
  },
  {
   "cell_type": "code",
   "execution_count": 22,
   "id": "048f6774",
   "metadata": {},
   "outputs": [],
   "source": [
    "g = 'and'"
   ]
  },
  {
   "cell_type": "code",
   "execution_count": 23,
   "id": "5e014742",
   "metadata": {},
   "outputs": [],
   "source": [
    "h = 'Keep'"
   ]
  },
  {
   "cell_type": "code",
   "execution_count": 24,
   "id": "d6d94c12",
   "metadata": {},
   "outputs": [],
   "source": [
    "i = 'coding'"
   ]
  },
  {
   "cell_type": "code",
   "execution_count": 25,
   "id": "26ed397f",
   "metadata": {},
   "outputs": [
    {
     "data": {
      "text/plain": [
       "'Keep calm and Keep coding'"
      ]
     },
     "execution_count": 25,
     "metadata": {},
     "output_type": "execute_result"
    }
   ],
   "source": [
    "e + ' ' + f + ' ' + g + ' ' + h + ' ' + i"
   ]
  },
  {
   "cell_type": "code",
   "execution_count": 26,
   "id": "cff8ae2a",
   "metadata": {},
   "outputs": [],
   "source": [
    "f = 'hi'"
   ]
  },
  {
   "cell_type": "code",
   "execution_count": 27,
   "id": "53a3aa5e",
   "metadata": {},
   "outputs": [
    {
     "data": {
      "text/plain": [
       "'hihihihihihihihihihihihihihihihihihihihihihihihihihihihihihihihihihihihihihihihihihihihihihihihihihihihihihihihihihihihihihihihihihihihihihihihihihihihihihihihihihihihihihihihihihihihihihihihihihihihi'"
      ]
     },
     "execution_count": 27,
     "metadata": {},
     "output_type": "execute_result"
    }
   ],
   "source": [
    "f * 100"
   ]
  },
  {
   "cell_type": "code",
   "execution_count": null,
   "id": "1669676d",
   "metadata": {},
   "outputs": [],
   "source": []
  }
 ],
 "metadata": {
  "kernelspec": {
   "display_name": "Python 3 (ipykernel)",
   "language": "python",
   "name": "python3"
  },
  "language_info": {
   "codemirror_mode": {
    "name": "ipython",
    "version": 3
   },
   "file_extension": ".py",
   "mimetype": "text/x-python",
   "name": "python",
   "nbconvert_exporter": "python",
   "pygments_lexer": "ipython3",
   "version": "3.11.3"
  }
 },
 "nbformat": 4,
 "nbformat_minor": 5
}
