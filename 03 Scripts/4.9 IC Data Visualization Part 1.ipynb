{
 "cells": [
  {
   "cell_type": "markdown",
   "id": "874b218a",
   "metadata": {},
   "source": [
    "# 4.7 Exercise Part 1"
   ]
  },
  {
   "cell_type": "markdown",
   "id": "b6109018",
   "metadata": {},
   "source": [
    "Table of Contents\n",
    "\n",
    "01. Importing\n",
    "\n",
    "02. Wrangling\n",
    "\n",
    "03. Data Quality and Consistency Checks\n",
    "\n",
    "04. Merging Data\n",
    "\n",
    "05. Export Data"
   ]
  },
  {
   "cell_type": "code",
   "execution_count": 1,
   "id": "c758e38b",
   "metadata": {},
   "outputs": [],
   "source": [
    "# Import libraries\n",
    "import pandas as pd\n",
    "import numpy as np\n",
    "import os\n",
    "import matplotlib.pyplot as plt\n",
    "import seaborn as sns\n",
    "import scipy"
   ]
  },
  {
   "cell_type": "code",
   "execution_count": 2,
   "id": "b9678a1b",
   "metadata": {},
   "outputs": [],
   "source": [
    "path = r'C:\\Users\\31622\\OneDrive\\Documents\\Career Foundry\\Instacart Basket Analysis'"
   ]
  },
  {
   "cell_type": "markdown",
   "id": "c864dacc",
   "metadata": {},
   "source": [
    "Importing Dataframes"
   ]
  },
  {
   "cell_type": "code",
   "execution_count": 3,
   "id": "0d3fab9a",
   "metadata": {},
   "outputs": [],
   "source": [
    "# Import new customer data set\n",
    "customers = pd.read_csv(os.path.join(path, '02 Data', 'Original Data', 'customers.csv'), index_col = False)"
   ]
  },
  {
   "cell_type": "code",
   "execution_count": 4,
   "id": "874576ec",
   "metadata": {},
   "outputs": [],
   "source": [
    "#Importing orders_products_aggregated.pkl dataframe\n",
    "ords_prods_aggreg = pd.read_pickle(os.path.join(path, '02 Data', 'Prepared Data', 'orders_products_aggregated.pkl'))"
   ]
  },
  {
   "cell_type": "markdown",
   "id": "e8da1c42",
   "metadata": {},
   "source": [
    "Question 4: Data Wrangling on New Customer Data set"
   ]
  },
  {
   "cell_type": "code",
   "execution_count": 5,
   "id": "b2999a46",
   "metadata": {},
   "outputs": [
    {
     "data": {
      "text/html": [
       "<div>\n",
       "<style scoped>\n",
       "    .dataframe tbody tr th:only-of-type {\n",
       "        vertical-align: middle;\n",
       "    }\n",
       "\n",
       "    .dataframe tbody tr th {\n",
       "        vertical-align: top;\n",
       "    }\n",
       "\n",
       "    .dataframe thead th {\n",
       "        text-align: right;\n",
       "    }\n",
       "</style>\n",
       "<table border=\"1\" class=\"dataframe\">\n",
       "  <thead>\n",
       "    <tr style=\"text-align: right;\">\n",
       "      <th></th>\n",
       "      <th>user_id</th>\n",
       "      <th>First Name</th>\n",
       "      <th>Surnam</th>\n",
       "      <th>Gender</th>\n",
       "      <th>STATE</th>\n",
       "      <th>Age</th>\n",
       "      <th>date_joined</th>\n",
       "      <th>n_dependants</th>\n",
       "      <th>fam_status</th>\n",
       "      <th>income</th>\n",
       "    </tr>\n",
       "  </thead>\n",
       "  <tbody>\n",
       "    <tr>\n",
       "      <th>0</th>\n",
       "      <td>26711</td>\n",
       "      <td>Deborah</td>\n",
       "      <td>Esquivel</td>\n",
       "      <td>Female</td>\n",
       "      <td>Missouri</td>\n",
       "      <td>48</td>\n",
       "      <td>1/1/2017</td>\n",
       "      <td>3</td>\n",
       "      <td>married</td>\n",
       "      <td>165665</td>\n",
       "    </tr>\n",
       "    <tr>\n",
       "      <th>1</th>\n",
       "      <td>33890</td>\n",
       "      <td>Patricia</td>\n",
       "      <td>Hart</td>\n",
       "      <td>Female</td>\n",
       "      <td>New Mexico</td>\n",
       "      <td>36</td>\n",
       "      <td>1/1/2017</td>\n",
       "      <td>0</td>\n",
       "      <td>single</td>\n",
       "      <td>59285</td>\n",
       "    </tr>\n",
       "    <tr>\n",
       "      <th>2</th>\n",
       "      <td>65803</td>\n",
       "      <td>Kenneth</td>\n",
       "      <td>Farley</td>\n",
       "      <td>Male</td>\n",
       "      <td>Idaho</td>\n",
       "      <td>35</td>\n",
       "      <td>1/1/2017</td>\n",
       "      <td>2</td>\n",
       "      <td>married</td>\n",
       "      <td>99568</td>\n",
       "    </tr>\n",
       "    <tr>\n",
       "      <th>3</th>\n",
       "      <td>125935</td>\n",
       "      <td>Michelle</td>\n",
       "      <td>Hicks</td>\n",
       "      <td>Female</td>\n",
       "      <td>Iowa</td>\n",
       "      <td>40</td>\n",
       "      <td>1/1/2017</td>\n",
       "      <td>0</td>\n",
       "      <td>single</td>\n",
       "      <td>42049</td>\n",
       "    </tr>\n",
       "    <tr>\n",
       "      <th>4</th>\n",
       "      <td>130797</td>\n",
       "      <td>Ann</td>\n",
       "      <td>Gilmore</td>\n",
       "      <td>Female</td>\n",
       "      <td>Maryland</td>\n",
       "      <td>26</td>\n",
       "      <td>1/1/2017</td>\n",
       "      <td>1</td>\n",
       "      <td>married</td>\n",
       "      <td>40374</td>\n",
       "    </tr>\n",
       "    <tr>\n",
       "      <th>5</th>\n",
       "      <td>133128</td>\n",
       "      <td>Cynthia</td>\n",
       "      <td>Noble</td>\n",
       "      <td>Female</td>\n",
       "      <td>Kentucky</td>\n",
       "      <td>43</td>\n",
       "      <td>1/1/2017</td>\n",
       "      <td>2</td>\n",
       "      <td>married</td>\n",
       "      <td>49643</td>\n",
       "    </tr>\n",
       "    <tr>\n",
       "      <th>6</th>\n",
       "      <td>152052</td>\n",
       "      <td>Chris</td>\n",
       "      <td>Walton</td>\n",
       "      <td>Male</td>\n",
       "      <td>Montana</td>\n",
       "      <td>20</td>\n",
       "      <td>1/1/2017</td>\n",
       "      <td>0</td>\n",
       "      <td>single</td>\n",
       "      <td>61746</td>\n",
       "    </tr>\n",
       "    <tr>\n",
       "      <th>7</th>\n",
       "      <td>168851</td>\n",
       "      <td>Joseph</td>\n",
       "      <td>Hickman</td>\n",
       "      <td>Male</td>\n",
       "      <td>South Carolina</td>\n",
       "      <td>30</td>\n",
       "      <td>1/1/2017</td>\n",
       "      <td>0</td>\n",
       "      <td>single</td>\n",
       "      <td>63712</td>\n",
       "    </tr>\n",
       "    <tr>\n",
       "      <th>8</th>\n",
       "      <td>69965</td>\n",
       "      <td>Jeremy</td>\n",
       "      <td>Vang</td>\n",
       "      <td>Male</td>\n",
       "      <td>Texas</td>\n",
       "      <td>47</td>\n",
       "      <td>1/1/2017</td>\n",
       "      <td>1</td>\n",
       "      <td>married</td>\n",
       "      <td>162432</td>\n",
       "    </tr>\n",
       "    <tr>\n",
       "      <th>9</th>\n",
       "      <td>82820</td>\n",
       "      <td>Shawn</td>\n",
       "      <td>Chung</td>\n",
       "      <td>Male</td>\n",
       "      <td>Virginia</td>\n",
       "      <td>26</td>\n",
       "      <td>1/1/2017</td>\n",
       "      <td>2</td>\n",
       "      <td>married</td>\n",
       "      <td>32072</td>\n",
       "    </tr>\n",
       "  </tbody>\n",
       "</table>\n",
       "</div>"
      ],
      "text/plain": [
       "   user_id First Name    Surnam  Gender           STATE  Age date_joined  \\\n",
       "0    26711    Deborah  Esquivel  Female        Missouri   48    1/1/2017   \n",
       "1    33890   Patricia      Hart  Female      New Mexico   36    1/1/2017   \n",
       "2    65803    Kenneth    Farley    Male           Idaho   35    1/1/2017   \n",
       "3   125935   Michelle     Hicks  Female            Iowa   40    1/1/2017   \n",
       "4   130797        Ann   Gilmore  Female        Maryland   26    1/1/2017   \n",
       "5   133128    Cynthia     Noble  Female        Kentucky   43    1/1/2017   \n",
       "6   152052      Chris    Walton    Male         Montana   20    1/1/2017   \n",
       "7   168851     Joseph   Hickman    Male  South Carolina   30    1/1/2017   \n",
       "8    69965     Jeremy      Vang    Male           Texas   47    1/1/2017   \n",
       "9    82820      Shawn     Chung    Male        Virginia   26    1/1/2017   \n",
       "\n",
       "   n_dependants fam_status  income  \n",
       "0             3    married  165665  \n",
       "1             0     single   59285  \n",
       "2             2    married   99568  \n",
       "3             0     single   42049  \n",
       "4             1    married   40374  \n",
       "5             2    married   49643  \n",
       "6             0     single   61746  \n",
       "7             0     single   63712  \n",
       "8             1    married  162432  \n",
       "9             2    married   32072  "
      ]
     },
     "execution_count": 5,
     "metadata": {},
     "output_type": "execute_result"
    }
   ],
   "source": [
    "# Check headings and first 10 rows of customer data set \n",
    "customers.head(10)"
   ]
  },
  {
   "cell_type": "code",
   "execution_count": 6,
   "id": "d1986b3e",
   "metadata": {},
   "outputs": [
    {
     "data": {
      "text/plain": [
       "(206209, 10)"
      ]
     },
     "execution_count": 6,
     "metadata": {},
     "output_type": "execute_result"
    }
   ],
   "source": [
    "#check customer data set shape\n",
    "customers.shape"
   ]
  },
  {
   "cell_type": "code",
   "execution_count": 7,
   "id": "a8c8e5c1",
   "metadata": {},
   "outputs": [],
   "source": [
    "# rename columns in customer data set\n",
    "customers.rename(columns = {'Surnam':'Last_name', 'n_dependants':'Num_of_dependants', 'fam_status':'Marital_status'}, inplace = True)"
   ]
  },
  {
   "cell_type": "code",
   "execution_count": 8,
   "id": "75b14ba9",
   "metadata": {},
   "outputs": [
    {
     "data": {
      "text/html": [
       "<div>\n",
       "<style scoped>\n",
       "    .dataframe tbody tr th:only-of-type {\n",
       "        vertical-align: middle;\n",
       "    }\n",
       "\n",
       "    .dataframe tbody tr th {\n",
       "        vertical-align: top;\n",
       "    }\n",
       "\n",
       "    .dataframe thead th {\n",
       "        text-align: right;\n",
       "    }\n",
       "</style>\n",
       "<table border=\"1\" class=\"dataframe\">\n",
       "  <thead>\n",
       "    <tr style=\"text-align: right;\">\n",
       "      <th></th>\n",
       "      <th>user_id</th>\n",
       "      <th>First Name</th>\n",
       "      <th>Last_name</th>\n",
       "      <th>Gender</th>\n",
       "      <th>STATE</th>\n",
       "      <th>Age</th>\n",
       "      <th>date_joined</th>\n",
       "      <th>Num_of_dependants</th>\n",
       "      <th>Marital_status</th>\n",
       "      <th>income</th>\n",
       "    </tr>\n",
       "  </thead>\n",
       "  <tbody>\n",
       "    <tr>\n",
       "      <th>0</th>\n",
       "      <td>26711</td>\n",
       "      <td>Deborah</td>\n",
       "      <td>Esquivel</td>\n",
       "      <td>Female</td>\n",
       "      <td>Missouri</td>\n",
       "      <td>48</td>\n",
       "      <td>1/1/2017</td>\n",
       "      <td>3</td>\n",
       "      <td>married</td>\n",
       "      <td>165665</td>\n",
       "    </tr>\n",
       "    <tr>\n",
       "      <th>1</th>\n",
       "      <td>33890</td>\n",
       "      <td>Patricia</td>\n",
       "      <td>Hart</td>\n",
       "      <td>Female</td>\n",
       "      <td>New Mexico</td>\n",
       "      <td>36</td>\n",
       "      <td>1/1/2017</td>\n",
       "      <td>0</td>\n",
       "      <td>single</td>\n",
       "      <td>59285</td>\n",
       "    </tr>\n",
       "    <tr>\n",
       "      <th>2</th>\n",
       "      <td>65803</td>\n",
       "      <td>Kenneth</td>\n",
       "      <td>Farley</td>\n",
       "      <td>Male</td>\n",
       "      <td>Idaho</td>\n",
       "      <td>35</td>\n",
       "      <td>1/1/2017</td>\n",
       "      <td>2</td>\n",
       "      <td>married</td>\n",
       "      <td>99568</td>\n",
       "    </tr>\n",
       "    <tr>\n",
       "      <th>3</th>\n",
       "      <td>125935</td>\n",
       "      <td>Michelle</td>\n",
       "      <td>Hicks</td>\n",
       "      <td>Female</td>\n",
       "      <td>Iowa</td>\n",
       "      <td>40</td>\n",
       "      <td>1/1/2017</td>\n",
       "      <td>0</td>\n",
       "      <td>single</td>\n",
       "      <td>42049</td>\n",
       "    </tr>\n",
       "    <tr>\n",
       "      <th>4</th>\n",
       "      <td>130797</td>\n",
       "      <td>Ann</td>\n",
       "      <td>Gilmore</td>\n",
       "      <td>Female</td>\n",
       "      <td>Maryland</td>\n",
       "      <td>26</td>\n",
       "      <td>1/1/2017</td>\n",
       "      <td>1</td>\n",
       "      <td>married</td>\n",
       "      <td>40374</td>\n",
       "    </tr>\n",
       "  </tbody>\n",
       "</table>\n",
       "</div>"
      ],
      "text/plain": [
       "   user_id First Name Last_name  Gender       STATE  Age date_joined  \\\n",
       "0    26711    Deborah  Esquivel  Female    Missouri   48    1/1/2017   \n",
       "1    33890   Patricia      Hart  Female  New Mexico   36    1/1/2017   \n",
       "2    65803    Kenneth    Farley    Male       Idaho   35    1/1/2017   \n",
       "3   125935   Michelle     Hicks  Female        Iowa   40    1/1/2017   \n",
       "4   130797        Ann   Gilmore  Female    Maryland   26    1/1/2017   \n",
       "\n",
       "   Num_of_dependants Marital_status  income  \n",
       "0                  3        married  165665  \n",
       "1                  0         single   59285  \n",
       "2                  2        married   99568  \n",
       "3                  0         single   42049  \n",
       "4                  1        married   40374  "
      ]
     },
     "execution_count": 8,
     "metadata": {},
     "output_type": "execute_result"
    }
   ],
   "source": [
    "#checking renamed columns in customer data set\n",
    "customers.head()"
   ]
  },
  {
   "cell_type": "markdown",
   "id": "7ea527a5",
   "metadata": {},
   "source": [
    "Question 5: Complete data quality and consistency checks"
   ]
  },
  {
   "cell_type": "code",
   "execution_count": 9,
   "id": "0b3176ed",
   "metadata": {},
   "outputs": [
    {
     "data": {
      "text/html": [
       "<div>\n",
       "<style scoped>\n",
       "    .dataframe tbody tr th:only-of-type {\n",
       "        vertical-align: middle;\n",
       "    }\n",
       "\n",
       "    .dataframe tbody tr th {\n",
       "        vertical-align: top;\n",
       "    }\n",
       "\n",
       "    .dataframe thead th {\n",
       "        text-align: right;\n",
       "    }\n",
       "</style>\n",
       "<table border=\"1\" class=\"dataframe\">\n",
       "  <thead>\n",
       "    <tr style=\"text-align: right;\">\n",
       "      <th></th>\n",
       "      <th>user_id</th>\n",
       "      <th>Age</th>\n",
       "      <th>Num_of_dependants</th>\n",
       "      <th>income</th>\n",
       "    </tr>\n",
       "  </thead>\n",
       "  <tbody>\n",
       "    <tr>\n",
       "      <th>count</th>\n",
       "      <td>206209.000000</td>\n",
       "      <td>206209.000000</td>\n",
       "      <td>206209.000000</td>\n",
       "      <td>206209.000000</td>\n",
       "    </tr>\n",
       "    <tr>\n",
       "      <th>mean</th>\n",
       "      <td>103105.000000</td>\n",
       "      <td>49.501646</td>\n",
       "      <td>1.499823</td>\n",
       "      <td>94632.852548</td>\n",
       "    </tr>\n",
       "    <tr>\n",
       "      <th>std</th>\n",
       "      <td>59527.555167</td>\n",
       "      <td>18.480962</td>\n",
       "      <td>1.118433</td>\n",
       "      <td>42473.786988</td>\n",
       "    </tr>\n",
       "    <tr>\n",
       "      <th>min</th>\n",
       "      <td>1.000000</td>\n",
       "      <td>18.000000</td>\n",
       "      <td>0.000000</td>\n",
       "      <td>25903.000000</td>\n",
       "    </tr>\n",
       "    <tr>\n",
       "      <th>25%</th>\n",
       "      <td>51553.000000</td>\n",
       "      <td>33.000000</td>\n",
       "      <td>0.000000</td>\n",
       "      <td>59874.000000</td>\n",
       "    </tr>\n",
       "    <tr>\n",
       "      <th>50%</th>\n",
       "      <td>103105.000000</td>\n",
       "      <td>49.000000</td>\n",
       "      <td>1.000000</td>\n",
       "      <td>93547.000000</td>\n",
       "    </tr>\n",
       "    <tr>\n",
       "      <th>75%</th>\n",
       "      <td>154657.000000</td>\n",
       "      <td>66.000000</td>\n",
       "      <td>3.000000</td>\n",
       "      <td>124244.000000</td>\n",
       "    </tr>\n",
       "    <tr>\n",
       "      <th>max</th>\n",
       "      <td>206209.000000</td>\n",
       "      <td>81.000000</td>\n",
       "      <td>3.000000</td>\n",
       "      <td>593901.000000</td>\n",
       "    </tr>\n",
       "  </tbody>\n",
       "</table>\n",
       "</div>"
      ],
      "text/plain": [
       "             user_id            Age  Num_of_dependants         income\n",
       "count  206209.000000  206209.000000      206209.000000  206209.000000\n",
       "mean   103105.000000      49.501646           1.499823   94632.852548\n",
       "std     59527.555167      18.480962           1.118433   42473.786988\n",
       "min         1.000000      18.000000           0.000000   25903.000000\n",
       "25%     51553.000000      33.000000           0.000000   59874.000000\n",
       "50%    103105.000000      49.000000           1.000000   93547.000000\n",
       "75%    154657.000000      66.000000           3.000000  124244.000000\n",
       "max    206209.000000      81.000000           3.000000  593901.000000"
      ]
     },
     "execution_count": 9,
     "metadata": {},
     "output_type": "execute_result"
    }
   ],
   "source": [
    "# Check descriptive statistics of data set\n",
    "customers.describe() # There are no strange or incorrect values in our descriptive statistics"
   ]
  },
  {
   "cell_type": "code",
   "execution_count": 10,
   "id": "0b9d1d89",
   "metadata": {
    "scrolled": true
   },
   "outputs": [
    {
     "name": "stdout",
     "output_type": "stream",
     "text": [
      "<class 'pandas.core.frame.DataFrame'>\n",
      "RangeIndex: 206209 entries, 0 to 206208\n",
      "Data columns (total 10 columns):\n",
      " #   Column             Non-Null Count   Dtype \n",
      "---  ------             --------------   ----- \n",
      " 0   user_id            206209 non-null  int64 \n",
      " 1   First Name         194950 non-null  object\n",
      " 2   Last_name          206209 non-null  object\n",
      " 3   Gender             206209 non-null  object\n",
      " 4   STATE              206209 non-null  object\n",
      " 5   Age                206209 non-null  int64 \n",
      " 6   date_joined        206209 non-null  object\n",
      " 7   Num_of_dependants  206209 non-null  int64 \n",
      " 8   Marital_status     206209 non-null  object\n",
      " 9   income             206209 non-null  int64 \n",
      "dtypes: int64(4), object(6)\n",
      "memory usage: 15.7+ MB\n"
     ]
    }
   ],
   "source": [
    "# Check information on customer data types\n",
    "customers.info()"
   ]
  },
  {
   "cell_type": "markdown",
   "id": "2abd9101",
   "metadata": {},
   "source": [
    "Observation: From this output, First name has an entry of 194950, which means it is missing values of 11,259 (206209 - 194950)."
   ]
  },
  {
   "cell_type": "code",
   "execution_count": 11,
   "id": "627dd224",
   "metadata": {},
   "outputs": [
    {
     "data": {
      "text/plain": [
       "NaN        11259\n",
       "Marilyn     2213\n",
       "Barbara     2154\n",
       "Todd        2113\n",
       "Jeremy      2104\n",
       "           ...  \n",
       "Merry        197\n",
       "Eugene       197\n",
       "Garry        191\n",
       "Ned          186\n",
       "David        186\n",
       "Name: First Name, Length: 208, dtype: int64"
      ]
     },
     "execution_count": 11,
     "metadata": {},
     "output_type": "execute_result"
    }
   ],
   "source": [
    "#Checking and confirming First Name column for missing values as it is the only one with fewer non-null objects\n",
    "customers['First Name'].value_counts(dropna = False) # We have confirmation that there is a NaN = 11259."
   ]
  },
  {
   "cell_type": "markdown",
   "id": "e1eb3d2f",
   "metadata": {},
   "source": [
    "Check for mixed data types"
   ]
  },
  {
   "cell_type": "code",
   "execution_count": 12,
   "id": "b5fe7ef1",
   "metadata": {},
   "outputs": [
    {
     "name": "stdout",
     "output_type": "stream",
     "text": [
      "First Name\n"
     ]
    }
   ],
   "source": [
    "#Check for mixed-types in customers.csv\n",
    "for col in customers.columns.tolist():\n",
    "    weird = (customers[[col]].applymap(type) != customers[[col]].iloc[0].apply(type)).any(axis = 1)\n",
    "    if len (customers[weird]) > 0:\n",
    "        print(col)"
   ]
  },
  {
   "cell_type": "code",
   "execution_count": 13,
   "id": "3631e507",
   "metadata": {},
   "outputs": [],
   "source": [
    "#Change the datatype of First Name to a String\n",
    "customers['First Name'] = customers['First Name'].astype('str')"
   ]
  },
  {
   "cell_type": "code",
   "execution_count": 14,
   "id": "25cca7f5",
   "metadata": {},
   "outputs": [],
   "source": [
    "# check if conversion is sucessful\n",
    "for col in customers.columns.tolist():\n",
    "  weird = (customers[[col]].applymap(type) != customers[[col]].iloc[0].apply(type)).any(axis = 1)\n",
    "  if len (customers[weird]) > 0:\n",
    "    print (col)"
   ]
  },
  {
   "cell_type": "markdown",
   "id": "03c7c057",
   "metadata": {},
   "source": [
    "Check missing values"
   ]
  },
  {
   "cell_type": "code",
   "execution_count": 15,
   "id": "1ea25122",
   "metadata": {},
   "outputs": [
    {
     "data": {
      "text/plain": [
       "user_id              0\n",
       "First Name           0\n",
       "Last_name            0\n",
       "Gender               0\n",
       "STATE                0\n",
       "Age                  0\n",
       "date_joined          0\n",
       "Num_of_dependants    0\n",
       "Marital_status       0\n",
       "income               0\n",
       "dtype: int64"
      ]
     },
     "execution_count": 15,
     "metadata": {},
     "output_type": "execute_result"
    }
   ],
   "source": [
    "# confirm no missing values\n",
    "customers.isnull().sum() # There are no missin values, now that we changed data type to string of First_name."
   ]
  },
  {
   "cell_type": "markdown",
   "id": "903060cd",
   "metadata": {},
   "source": [
    "Check duplicate values"
   ]
  },
  {
   "cell_type": "code",
   "execution_count": 16,
   "id": "855498ec",
   "metadata": {},
   "outputs": [],
   "source": [
    "#Find any duplicate entries in customer.csv and assign them to df_dups\n",
    "df_dups = customers[customers.duplicated()]"
   ]
  },
  {
   "cell_type": "code",
   "execution_count": 17,
   "id": "95fcc9a0",
   "metadata": {},
   "outputs": [
    {
     "data": {
      "text/html": [
       "<div>\n",
       "<style scoped>\n",
       "    .dataframe tbody tr th:only-of-type {\n",
       "        vertical-align: middle;\n",
       "    }\n",
       "\n",
       "    .dataframe tbody tr th {\n",
       "        vertical-align: top;\n",
       "    }\n",
       "\n",
       "    .dataframe thead th {\n",
       "        text-align: right;\n",
       "    }\n",
       "</style>\n",
       "<table border=\"1\" class=\"dataframe\">\n",
       "  <thead>\n",
       "    <tr style=\"text-align: right;\">\n",
       "      <th></th>\n",
       "      <th>user_id</th>\n",
       "      <th>First Name</th>\n",
       "      <th>Last_name</th>\n",
       "      <th>Gender</th>\n",
       "      <th>STATE</th>\n",
       "      <th>Age</th>\n",
       "      <th>date_joined</th>\n",
       "      <th>Num_of_dependants</th>\n",
       "      <th>Marital_status</th>\n",
       "      <th>income</th>\n",
       "    </tr>\n",
       "  </thead>\n",
       "  <tbody>\n",
       "  </tbody>\n",
       "</table>\n",
       "</div>"
      ],
      "text/plain": [
       "Empty DataFrame\n",
       "Columns: [user_id, First Name, Last_name, Gender, STATE, Age, date_joined, Num_of_dependants, Marital_status, income]\n",
       "Index: []"
      ]
     },
     "execution_count": 17,
     "metadata": {},
     "output_type": "execute_result"
    }
   ],
   "source": [
    "df_dups # confirmed no duplicates in customer data set"
   ]
  },
  {
   "cell_type": "markdown",
   "id": "176c2efd",
   "metadata": {},
   "source": [
    "Question 6: Combining wrangled customer data with the rest of the prepared Instacart data"
   ]
  },
  {
   "cell_type": "code",
   "execution_count": 18,
   "id": "c6886139",
   "metadata": {},
   "outputs": [
    {
     "name": "stdout",
     "output_type": "stream",
     "text": [
      "<class 'pandas.core.frame.DataFrame'>\n",
      "Int64Index: 32434212 entries, 0 to 32434211\n",
      "Data columns (total 24 columns):\n",
      " #   Column                  Dtype   \n",
      "---  ------                  -----   \n",
      " 0   order_id                int64   \n",
      " 1   user_id                 int64   \n",
      " 2   number_of_orders        int64   \n",
      " 3   orders_day_of_week      int64   \n",
      " 4   order_hour_of_day       int64   \n",
      " 5   days_since_prior_order  float64 \n",
      " 6   product_id              int64   \n",
      " 7   add_to_cart_order       int64   \n",
      " 8   reordered               int64   \n",
      " 9   product_name            object  \n",
      " 10  aisle_id                int64   \n",
      " 11  department_id           int64   \n",
      " 12  prices                  float64 \n",
      " 13  _merge                  category\n",
      " 14  price_range_loc         object  \n",
      " 15  busiest_day             object  \n",
      " 16  busiest_days            object  \n",
      " 17  busiest_period_of_day   object  \n",
      " 18  max_order               int64   \n",
      " 19  loyalty_flag            object  \n",
      " 20  mean_price              float64 \n",
      " 21  Spending_flag           object  \n",
      " 22  median_days             float64 \n",
      " 23  frequency_flag          object  \n",
      "dtypes: category(1), float64(4), int64(11), object(8)\n",
      "memory usage: 5.8+ GB\n"
     ]
    }
   ],
   "source": [
    "ords_prods_aggreg.info()"
   ]
  },
  {
   "cell_type": "code",
   "execution_count": 19,
   "id": "3199b265",
   "metadata": {},
   "outputs": [
    {
     "data": {
      "text/plain": [
       "(32434212, 24)"
      ]
     },
     "execution_count": 19,
     "metadata": {},
     "output_type": "execute_result"
    }
   ],
   "source": [
    "#Checking the ords_prods_aggreg df size\n",
    "ords_prods_aggreg.shape"
   ]
  },
  {
   "cell_type": "code",
   "execution_count": 20,
   "id": "8d5d596a",
   "metadata": {},
   "outputs": [],
   "source": [
    "#Combining the two df using the user_id column\n",
    "combined = ords_prods_aggreg.merge(customers, on = 'user_id')"
   ]
  },
  {
   "cell_type": "code",
   "execution_count": 21,
   "id": "accbc7ed",
   "metadata": {},
   "outputs": [
    {
     "data": {
      "text/html": [
       "<div>\n",
       "<style scoped>\n",
       "    .dataframe tbody tr th:only-of-type {\n",
       "        vertical-align: middle;\n",
       "    }\n",
       "\n",
       "    .dataframe tbody tr th {\n",
       "        vertical-align: top;\n",
       "    }\n",
       "\n",
       "    .dataframe thead th {\n",
       "        text-align: right;\n",
       "    }\n",
       "</style>\n",
       "<table border=\"1\" class=\"dataframe\">\n",
       "  <thead>\n",
       "    <tr style=\"text-align: right;\">\n",
       "      <th></th>\n",
       "      <th>order_id</th>\n",
       "      <th>user_id</th>\n",
       "      <th>number_of_orders</th>\n",
       "      <th>orders_day_of_week</th>\n",
       "      <th>order_hour_of_day</th>\n",
       "      <th>days_since_prior_order</th>\n",
       "      <th>product_id</th>\n",
       "      <th>add_to_cart_order</th>\n",
       "      <th>reordered</th>\n",
       "      <th>product_name</th>\n",
       "      <th>...</th>\n",
       "      <th>frequency_flag</th>\n",
       "      <th>First Name</th>\n",
       "      <th>Last_name</th>\n",
       "      <th>Gender</th>\n",
       "      <th>STATE</th>\n",
       "      <th>Age</th>\n",
       "      <th>date_joined</th>\n",
       "      <th>Num_of_dependants</th>\n",
       "      <th>Marital_status</th>\n",
       "      <th>income</th>\n",
       "    </tr>\n",
       "  </thead>\n",
       "  <tbody>\n",
       "    <tr>\n",
       "      <th>0</th>\n",
       "      <td>2539329</td>\n",
       "      <td>1</td>\n",
       "      <td>1</td>\n",
       "      <td>2</td>\n",
       "      <td>8</td>\n",
       "      <td>NaN</td>\n",
       "      <td>196</td>\n",
       "      <td>1</td>\n",
       "      <td>0</td>\n",
       "      <td>Soda</td>\n",
       "      <td>...</td>\n",
       "      <td>Non-frequent customer</td>\n",
       "      <td>Linda</td>\n",
       "      <td>Nguyen</td>\n",
       "      <td>Female</td>\n",
       "      <td>Alabama</td>\n",
       "      <td>31</td>\n",
       "      <td>2/17/2019</td>\n",
       "      <td>3</td>\n",
       "      <td>married</td>\n",
       "      <td>40423</td>\n",
       "    </tr>\n",
       "    <tr>\n",
       "      <th>1</th>\n",
       "      <td>2398795</td>\n",
       "      <td>1</td>\n",
       "      <td>2</td>\n",
       "      <td>3</td>\n",
       "      <td>7</td>\n",
       "      <td>15.0</td>\n",
       "      <td>196</td>\n",
       "      <td>1</td>\n",
       "      <td>1</td>\n",
       "      <td>Soda</td>\n",
       "      <td>...</td>\n",
       "      <td>Non-frequent customer</td>\n",
       "      <td>Linda</td>\n",
       "      <td>Nguyen</td>\n",
       "      <td>Female</td>\n",
       "      <td>Alabama</td>\n",
       "      <td>31</td>\n",
       "      <td>2/17/2019</td>\n",
       "      <td>3</td>\n",
       "      <td>married</td>\n",
       "      <td>40423</td>\n",
       "    </tr>\n",
       "    <tr>\n",
       "      <th>2</th>\n",
       "      <td>473747</td>\n",
       "      <td>1</td>\n",
       "      <td>3</td>\n",
       "      <td>3</td>\n",
       "      <td>12</td>\n",
       "      <td>21.0</td>\n",
       "      <td>196</td>\n",
       "      <td>1</td>\n",
       "      <td>1</td>\n",
       "      <td>Soda</td>\n",
       "      <td>...</td>\n",
       "      <td>Non-frequent customer</td>\n",
       "      <td>Linda</td>\n",
       "      <td>Nguyen</td>\n",
       "      <td>Female</td>\n",
       "      <td>Alabama</td>\n",
       "      <td>31</td>\n",
       "      <td>2/17/2019</td>\n",
       "      <td>3</td>\n",
       "      <td>married</td>\n",
       "      <td>40423</td>\n",
       "    </tr>\n",
       "    <tr>\n",
       "      <th>3</th>\n",
       "      <td>2254736</td>\n",
       "      <td>1</td>\n",
       "      <td>4</td>\n",
       "      <td>4</td>\n",
       "      <td>7</td>\n",
       "      <td>29.0</td>\n",
       "      <td>196</td>\n",
       "      <td>1</td>\n",
       "      <td>1</td>\n",
       "      <td>Soda</td>\n",
       "      <td>...</td>\n",
       "      <td>Non-frequent customer</td>\n",
       "      <td>Linda</td>\n",
       "      <td>Nguyen</td>\n",
       "      <td>Female</td>\n",
       "      <td>Alabama</td>\n",
       "      <td>31</td>\n",
       "      <td>2/17/2019</td>\n",
       "      <td>3</td>\n",
       "      <td>married</td>\n",
       "      <td>40423</td>\n",
       "    </tr>\n",
       "    <tr>\n",
       "      <th>4</th>\n",
       "      <td>431534</td>\n",
       "      <td>1</td>\n",
       "      <td>5</td>\n",
       "      <td>4</td>\n",
       "      <td>15</td>\n",
       "      <td>28.0</td>\n",
       "      <td>196</td>\n",
       "      <td>1</td>\n",
       "      <td>1</td>\n",
       "      <td>Soda</td>\n",
       "      <td>...</td>\n",
       "      <td>Non-frequent customer</td>\n",
       "      <td>Linda</td>\n",
       "      <td>Nguyen</td>\n",
       "      <td>Female</td>\n",
       "      <td>Alabama</td>\n",
       "      <td>31</td>\n",
       "      <td>2/17/2019</td>\n",
       "      <td>3</td>\n",
       "      <td>married</td>\n",
       "      <td>40423</td>\n",
       "    </tr>\n",
       "  </tbody>\n",
       "</table>\n",
       "<p>5 rows × 33 columns</p>\n",
       "</div>"
      ],
      "text/plain": [
       "   order_id  user_id  number_of_orders  orders_day_of_week  order_hour_of_day  \\\n",
       "0   2539329        1                 1                   2                  8   \n",
       "1   2398795        1                 2                   3                  7   \n",
       "2    473747        1                 3                   3                 12   \n",
       "3   2254736        1                 4                   4                  7   \n",
       "4    431534        1                 5                   4                 15   \n",
       "\n",
       "   days_since_prior_order  product_id  add_to_cart_order  reordered  \\\n",
       "0                     NaN         196                  1          0   \n",
       "1                    15.0         196                  1          1   \n",
       "2                    21.0         196                  1          1   \n",
       "3                    29.0         196                  1          1   \n",
       "4                    28.0         196                  1          1   \n",
       "\n",
       "  product_name  ...         frequency_flag  First Name  Last_name  Gender  \\\n",
       "0         Soda  ...  Non-frequent customer       Linda     Nguyen  Female   \n",
       "1         Soda  ...  Non-frequent customer       Linda     Nguyen  Female   \n",
       "2         Soda  ...  Non-frequent customer       Linda     Nguyen  Female   \n",
       "3         Soda  ...  Non-frequent customer       Linda     Nguyen  Female   \n",
       "4         Soda  ...  Non-frequent customer       Linda     Nguyen  Female   \n",
       "\n",
       "     STATE Age date_joined Num_of_dependants  Marital_status income  \n",
       "0  Alabama  31   2/17/2019                 3         married  40423  \n",
       "1  Alabama  31   2/17/2019                 3         married  40423  \n",
       "2  Alabama  31   2/17/2019                 3         married  40423  \n",
       "3  Alabama  31   2/17/2019                 3         married  40423  \n",
       "4  Alabama  31   2/17/2019                 3         married  40423  \n",
       "\n",
       "[5 rows x 33 columns]"
      ]
     },
     "execution_count": 21,
     "metadata": {},
     "output_type": "execute_result"
    }
   ],
   "source": [
    "combined.head()"
   ]
  },
  {
   "cell_type": "code",
   "execution_count": 22,
   "id": "9ee27c04",
   "metadata": {},
   "outputs": [
    {
     "name": "stdout",
     "output_type": "stream",
     "text": [
      "<class 'pandas.core.frame.DataFrame'>\n",
      "Int64Index: 32434212 entries, 0 to 32434211\n",
      "Data columns (total 33 columns):\n",
      " #   Column                  Dtype   \n",
      "---  ------                  -----   \n",
      " 0   order_id                int64   \n",
      " 1   user_id                 int64   \n",
      " 2   number_of_orders        int64   \n",
      " 3   orders_day_of_week      int64   \n",
      " 4   order_hour_of_day       int64   \n",
      " 5   days_since_prior_order  float64 \n",
      " 6   product_id              int64   \n",
      " 7   add_to_cart_order       int64   \n",
      " 8   reordered               int64   \n",
      " 9   product_name            object  \n",
      " 10  aisle_id                int64   \n",
      " 11  department_id           int64   \n",
      " 12  prices                  float64 \n",
      " 13  _merge                  category\n",
      " 14  price_range_loc         object  \n",
      " 15  busiest_day             object  \n",
      " 16  busiest_days            object  \n",
      " 17  busiest_period_of_day   object  \n",
      " 18  max_order               int64   \n",
      " 19  loyalty_flag            object  \n",
      " 20  mean_price              float64 \n",
      " 21  Spending_flag           object  \n",
      " 22  median_days             float64 \n",
      " 23  frequency_flag          object  \n",
      " 24  First Name              object  \n",
      " 25  Last_name               object  \n",
      " 26  Gender                  object  \n",
      " 27  STATE                   object  \n",
      " 28  Age                     int64   \n",
      " 29  date_joined             object  \n",
      " 30  Num_of_dependants       int64   \n",
      " 31  Marital_status          object  \n",
      " 32  income                  int64   \n",
      "dtypes: category(1), float64(4), int64(14), object(14)\n",
      "memory usage: 8.0+ GB\n"
     ]
    }
   ],
   "source": [
    "combined.info()"
   ]
  },
  {
   "cell_type": "code",
   "execution_count": 23,
   "id": "0e212e1f",
   "metadata": {},
   "outputs": [
    {
     "data": {
      "text/plain": [
       "(32434212, 33)"
      ]
     },
     "execution_count": 23,
     "metadata": {},
     "output_type": "execute_result"
    }
   ],
   "source": [
    "combined.shape"
   ]
  },
  {
   "cell_type": "markdown",
   "id": "9f6becd0",
   "metadata": {},
   "source": [
    "Question 8: Export this new dataframe as a pickle file"
   ]
  },
  {
   "cell_type": "code",
   "execution_count": 24,
   "id": "e22a9aed",
   "metadata": {},
   "outputs": [],
   "source": [
    "#Exporting combined customer data set with ords_prods_aggreg to pickle file\n",
    "combined.to_pickle(os.path.join(path, '02 Data', 'Prepared Data', 'customers_ords_prods.pkl'))"
   ]
  }
 ],
 "metadata": {
  "kernelspec": {
   "display_name": "Python 3 (ipykernel)",
   "language": "python",
   "name": "python3"
  },
  "language_info": {
   "codemirror_mode": {
    "name": "ipython",
    "version": 3
   },
   "file_extension": ".py",
   "mimetype": "text/x-python",
   "name": "python",
   "nbconvert_exporter": "python",
   "pygments_lexer": "ipython3",
   "version": "3.11.3"
  }
 },
 "nbformat": 4,
 "nbformat_minor": 5
}
