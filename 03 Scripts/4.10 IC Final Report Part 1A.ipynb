{
 "cells": [
  {
   "cell_type": "markdown",
   "id": "ee03acd9",
   "metadata": {},
   "source": [
    "# 4.10 Instacart Final Analysis\n",
    "\n",
    "### Table of Contents\n",
    "\n",
    "01. Crosstabs\n",
    "\n",
    "02. PII issues\n",
    "\n",
    "03. Assigning Flags\n"
   ]
  },
  {
   "cell_type": "code",
   "execution_count": 1,
   "id": "25a1926e",
   "metadata": {},
   "outputs": [],
   "source": [
    "# Import libraries\n",
    "import pandas as pd\n",
    "import numpy as np\n",
    "import os\n",
    "import matplotlib.pyplot as plt\n",
    "import seaborn as sns\n",
    "import scipy"
   ]
  },
  {
   "cell_type": "code",
   "execution_count": 2,
   "id": "294d5759",
   "metadata": {},
   "outputs": [],
   "source": [
    "#Importing customers_orders_products.pkl dataframe\n",
    "path = r'C:\\Users\\31622\\OneDrive\\Documents\\Career Foundry\\Career Foundry\\Exercise\\Exercise 4\\Instacart Basket Analysis'\n",
    "customers_ords_prods = pd.read_pickle(os.path.join(path, '02 Data', 'Prepared Data', 'customers_ords_prods.pkl'))"
   ]
  },
  {
   "cell_type": "markdown",
   "id": "624327ee",
   "metadata": {},
   "source": [
    "**Question 2: Consider any security implications that might exist for this new data**"
   ]
  },
  {
   "cell_type": "code",
   "execution_count": 3,
   "id": "9a7d06e9",
   "metadata": {},
   "outputs": [
    {
     "name": "stdout",
     "output_type": "stream",
     "text": [
      "<class 'pandas.core.frame.DataFrame'>\n",
      "Int64Index: 32434212 entries, 0 to 32434211\n",
      "Data columns (total 33 columns):\n",
      " #   Column                  Dtype   \n",
      "---  ------                  -----   \n",
      " 0   order_id                int64   \n",
      " 1   user_id                 int64   \n",
      " 2   number_of_orders        int64   \n",
      " 3   orders_day_of_week      int64   \n",
      " 4   order_hour_of_day       int64   \n",
      " 5   days_since_prior_order  float64 \n",
      " 6   product_id              int64   \n",
      " 7   add_to_cart_order       int64   \n",
      " 8   reordered               int64   \n",
      " 9   product_name            object  \n",
      " 10  aisle_id                int64   \n",
      " 11  department_id           int64   \n",
      " 12  prices                  float64 \n",
      " 13  _merge                  category\n",
      " 14  price_range_loc         object  \n",
      " 15  busiest_day             object  \n",
      " 16  busiest_days            object  \n",
      " 17  busiest_period_of_day   object  \n",
      " 18  max_order               int64   \n",
      " 19  loyalty_flag            object  \n",
      " 20  mean_price              float64 \n",
      " 21  Spending_flag           object  \n",
      " 22  median_days             float64 \n",
      " 23  frequency_flag          object  \n",
      " 24  First Name              object  \n",
      " 25  Last_name               object  \n",
      " 26  Gender                  object  \n",
      " 27  STATE                   object  \n",
      " 28  Age                     int64   \n",
      " 29  date_joined             object  \n",
      " 30  Num_of_dependants       int64   \n",
      " 31  Marital_status          object  \n",
      " 32  income                  int64   \n",
      "dtypes: category(1), float64(4), int64(14), object(14)\n",
      "memory usage: 8.0+ GB\n"
     ]
    }
   ],
   "source": [
    "customers_ords_prods.info()"
   ]
  },
  {
   "cell_type": "code",
   "execution_count": 4,
   "id": "f3bb0f1a",
   "metadata": {},
   "outputs": [],
   "source": [
    "# create cross reference between days since prior order and number of orders to check that this corresponds to the number of orders 0 for first time customers.  \n",
    "crosstab = pd.crosstab(customers_ords_prods['days_since_prior_order'], customers_ords_prods['number_of_orders'], dropna = False)"
   ]
  },
  {
   "cell_type": "code",
   "execution_count": 5,
   "id": "d87376d7",
   "metadata": {},
   "outputs": [],
   "source": [
    "# copy to clipboard\n",
    "crosstab.to_clipboard()"
   ]
  },
  {
   "cell_type": "markdown",
   "id": "e4f8f630",
   "metadata": {},
   "source": [
    "**Observation: Looking at the data frame, we see that the first and last name contains data that can easily identify individuals. This column can be dropped to ensure data privacy of these persons.**"
   ]
  },
  {
   "cell_type": "code",
   "execution_count": 6,
   "id": "aa09027e",
   "metadata": {},
   "outputs": [],
   "source": [
    "# Drop the columns that contain personal information\n",
    "df_clean = customers_ords_prods.drop(columns=['First Name', 'Last_name'])"
   ]
  },
  {
   "cell_type": "code",
   "execution_count": 7,
   "id": "ef427fd0",
   "metadata": {},
   "outputs": [
    {
     "data": {
      "text/plain": [
       "Index(['order_id', 'user_id', 'number_of_orders', 'orders_day_of_week',\n",
       "       'order_hour_of_day', 'days_since_prior_order', 'product_id',\n",
       "       'add_to_cart_order', 'reordered', 'product_name', 'aisle_id',\n",
       "       'department_id', 'prices', '_merge', 'price_range_loc', 'busiest_day',\n",
       "       'busiest_days', 'busiest_period_of_day', 'max_order', 'loyalty_flag',\n",
       "       'mean_price', 'Spending_flag', 'median_days', 'frequency_flag',\n",
       "       'Gender', 'STATE', 'Age', 'date_joined', 'Num_of_dependants',\n",
       "       'Marital_status', 'income'],\n",
       "      dtype='object')"
      ]
     },
     "execution_count": 7,
     "metadata": {},
     "output_type": "execute_result"
    }
   ],
   "source": [
    "df_clean.columns"
   ]
  },
  {
   "cell_type": "markdown",
   "id": "20cdc77d",
   "metadata": {},
   "source": [
    "**Question 3: Create a regional segmentation of the data by creating Regions based on States**"
   ]
  },
  {
   "cell_type": "code",
   "execution_count": 8,
   "id": "ef4c8929",
   "metadata": {},
   "outputs": [],
   "source": [
    "# Create flags to assign \"region\" labels to users based on 'states'\n",
    "df_clean.loc[df_clean['STATE'].isin(['Maine', 'New Hampshire', 'Vermont', 'Massachusetts', 'Rhode Island', 'Connecticut', 'New York', 'Pennsylvania', 'New Jersey']), 'Region'] = 'Northeast'"
   ]
  },
  {
   "cell_type": "code",
   "execution_count": 9,
   "id": "3cf7d71c",
   "metadata": {},
   "outputs": [],
   "source": [
    "df_clean.loc[df_clean['STATE'].isin(['Wisconsin' , 'Michigan' , 'Illinois' , 'Indiana' , 'Ohio' , 'North Dakota' , 'South Dakota' , 'Nebraska' , 'Kansas' , 'Minnesota' , 'Iowa' , 'Missouri']\n",
    ") , 'Region'] = 'Midwest' "
   ]
  },
  {
   "cell_type": "code",
   "execution_count": 10,
   "id": "52fd0b42",
   "metadata": {},
   "outputs": [],
   "source": [
    "df_clean.loc[df_clean['STATE'].isin(['Delaware' , 'Maryland' , 'District of Columbia' , 'Virginia' , 'West Virginia' , 'North Carolina' , 'South Carolina' , 'Georgia' , 'Florida' , 'Kentucky' , 'Tennessee' , 'Mississippi' , 'Alabama' , 'Oklahoma' , 'Texas' , 'Arkansas' , 'Louisiana']\n",
    ") , 'Region'] = 'South' "
   ]
  },
  {
   "cell_type": "code",
   "execution_count": 11,
   "id": "2f7a85c9",
   "metadata": {},
   "outputs": [],
   "source": [
    "df_clean.loc[df_clean['STATE'].isin(['Idaho' , 'Montana' , 'Wyoming' , 'Nevada' , 'Utah' , 'Colorado' , 'Arizona' , 'New Mexico' , 'Alaska' , 'Washington' , 'Oregon' , 'California' , 'Hawaii']\n",
    ") , 'Region'] = 'West'"
   ]
  },
  {
   "cell_type": "code",
   "execution_count": 12,
   "id": "8c9b05bb",
   "metadata": {},
   "outputs": [
    {
     "data": {
      "text/html": [
       "<div>\n",
       "<style scoped>\n",
       "    .dataframe tbody tr th:only-of-type {\n",
       "        vertical-align: middle;\n",
       "    }\n",
       "\n",
       "    .dataframe tbody tr th {\n",
       "        vertical-align: top;\n",
       "    }\n",
       "\n",
       "    .dataframe thead th {\n",
       "        text-align: right;\n",
       "    }\n",
       "</style>\n",
       "<table border=\"1\" class=\"dataframe\">\n",
       "  <thead>\n",
       "    <tr style=\"text-align: right;\">\n",
       "      <th></th>\n",
       "      <th>order_id</th>\n",
       "      <th>user_id</th>\n",
       "      <th>number_of_orders</th>\n",
       "      <th>orders_day_of_week</th>\n",
       "      <th>order_hour_of_day</th>\n",
       "      <th>days_since_prior_order</th>\n",
       "      <th>product_id</th>\n",
       "      <th>add_to_cart_order</th>\n",
       "      <th>reordered</th>\n",
       "      <th>product_name</th>\n",
       "      <th>...</th>\n",
       "      <th>median_days</th>\n",
       "      <th>frequency_flag</th>\n",
       "      <th>Gender</th>\n",
       "      <th>STATE</th>\n",
       "      <th>Age</th>\n",
       "      <th>date_joined</th>\n",
       "      <th>Num_of_dependants</th>\n",
       "      <th>Marital_status</th>\n",
       "      <th>income</th>\n",
       "      <th>Region</th>\n",
       "    </tr>\n",
       "  </thead>\n",
       "  <tbody>\n",
       "    <tr>\n",
       "      <th>0</th>\n",
       "      <td>2539329</td>\n",
       "      <td>1</td>\n",
       "      <td>1</td>\n",
       "      <td>2</td>\n",
       "      <td>8</td>\n",
       "      <td>NaN</td>\n",
       "      <td>196</td>\n",
       "      <td>1</td>\n",
       "      <td>0</td>\n",
       "      <td>Soda</td>\n",
       "      <td>...</td>\n",
       "      <td>30.0</td>\n",
       "      <td>Non-frequent customer</td>\n",
       "      <td>Female</td>\n",
       "      <td>Alabama</td>\n",
       "      <td>31</td>\n",
       "      <td>2/17/2019</td>\n",
       "      <td>3</td>\n",
       "      <td>married</td>\n",
       "      <td>40423</td>\n",
       "      <td>South</td>\n",
       "    </tr>\n",
       "    <tr>\n",
       "      <th>1</th>\n",
       "      <td>2398795</td>\n",
       "      <td>1</td>\n",
       "      <td>2</td>\n",
       "      <td>3</td>\n",
       "      <td>7</td>\n",
       "      <td>15.0</td>\n",
       "      <td>196</td>\n",
       "      <td>1</td>\n",
       "      <td>1</td>\n",
       "      <td>Soda</td>\n",
       "      <td>...</td>\n",
       "      <td>30.0</td>\n",
       "      <td>Non-frequent customer</td>\n",
       "      <td>Female</td>\n",
       "      <td>Alabama</td>\n",
       "      <td>31</td>\n",
       "      <td>2/17/2019</td>\n",
       "      <td>3</td>\n",
       "      <td>married</td>\n",
       "      <td>40423</td>\n",
       "      <td>South</td>\n",
       "    </tr>\n",
       "    <tr>\n",
       "      <th>2</th>\n",
       "      <td>473747</td>\n",
       "      <td>1</td>\n",
       "      <td>3</td>\n",
       "      <td>3</td>\n",
       "      <td>12</td>\n",
       "      <td>21.0</td>\n",
       "      <td>196</td>\n",
       "      <td>1</td>\n",
       "      <td>1</td>\n",
       "      <td>Soda</td>\n",
       "      <td>...</td>\n",
       "      <td>30.0</td>\n",
       "      <td>Non-frequent customer</td>\n",
       "      <td>Female</td>\n",
       "      <td>Alabama</td>\n",
       "      <td>31</td>\n",
       "      <td>2/17/2019</td>\n",
       "      <td>3</td>\n",
       "      <td>married</td>\n",
       "      <td>40423</td>\n",
       "      <td>South</td>\n",
       "    </tr>\n",
       "    <tr>\n",
       "      <th>3</th>\n",
       "      <td>2254736</td>\n",
       "      <td>1</td>\n",
       "      <td>4</td>\n",
       "      <td>4</td>\n",
       "      <td>7</td>\n",
       "      <td>29.0</td>\n",
       "      <td>196</td>\n",
       "      <td>1</td>\n",
       "      <td>1</td>\n",
       "      <td>Soda</td>\n",
       "      <td>...</td>\n",
       "      <td>30.0</td>\n",
       "      <td>Non-frequent customer</td>\n",
       "      <td>Female</td>\n",
       "      <td>Alabama</td>\n",
       "      <td>31</td>\n",
       "      <td>2/17/2019</td>\n",
       "      <td>3</td>\n",
       "      <td>married</td>\n",
       "      <td>40423</td>\n",
       "      <td>South</td>\n",
       "    </tr>\n",
       "    <tr>\n",
       "      <th>4</th>\n",
       "      <td>431534</td>\n",
       "      <td>1</td>\n",
       "      <td>5</td>\n",
       "      <td>4</td>\n",
       "      <td>15</td>\n",
       "      <td>28.0</td>\n",
       "      <td>196</td>\n",
       "      <td>1</td>\n",
       "      <td>1</td>\n",
       "      <td>Soda</td>\n",
       "      <td>...</td>\n",
       "      <td>30.0</td>\n",
       "      <td>Non-frequent customer</td>\n",
       "      <td>Female</td>\n",
       "      <td>Alabama</td>\n",
       "      <td>31</td>\n",
       "      <td>2/17/2019</td>\n",
       "      <td>3</td>\n",
       "      <td>married</td>\n",
       "      <td>40423</td>\n",
       "      <td>South</td>\n",
       "    </tr>\n",
       "  </tbody>\n",
       "</table>\n",
       "<p>5 rows × 32 columns</p>\n",
       "</div>"
      ],
      "text/plain": [
       "   order_id  user_id  number_of_orders  orders_day_of_week  order_hour_of_day  \\\n",
       "0   2539329        1                 1                   2                  8   \n",
       "1   2398795        1                 2                   3                  7   \n",
       "2    473747        1                 3                   3                 12   \n",
       "3   2254736        1                 4                   4                  7   \n",
       "4    431534        1                 5                   4                 15   \n",
       "\n",
       "   days_since_prior_order  product_id  add_to_cart_order  reordered  \\\n",
       "0                     NaN         196                  1          0   \n",
       "1                    15.0         196                  1          1   \n",
       "2                    21.0         196                  1          1   \n",
       "3                    29.0         196                  1          1   \n",
       "4                    28.0         196                  1          1   \n",
       "\n",
       "  product_name  ...  median_days         frequency_flag  Gender    STATE Age  \\\n",
       "0         Soda  ...         30.0  Non-frequent customer  Female  Alabama  31   \n",
       "1         Soda  ...         30.0  Non-frequent customer  Female  Alabama  31   \n",
       "2         Soda  ...         30.0  Non-frequent customer  Female  Alabama  31   \n",
       "3         Soda  ...         30.0  Non-frequent customer  Female  Alabama  31   \n",
       "4         Soda  ...         30.0  Non-frequent customer  Female  Alabama  31   \n",
       "\n",
       "  date_joined Num_of_dependants Marital_status  income Region  \n",
       "0   2/17/2019                 3        married   40423  South  \n",
       "1   2/17/2019                 3        married   40423  South  \n",
       "2   2/17/2019                 3        married   40423  South  \n",
       "3   2/17/2019                 3        married   40423  South  \n",
       "4   2/17/2019                 3        married   40423  South  \n",
       "\n",
       "[5 rows x 32 columns]"
      ]
     },
     "execution_count": 12,
     "metadata": {},
     "output_type": "execute_result"
    }
   ],
   "source": [
    "# Check the result\n",
    "df_clean.head()"
   ]
  },
  {
   "cell_type": "code",
   "execution_count": 13,
   "id": "f3534c4f",
   "metadata": {},
   "outputs": [
    {
     "data": {
      "text/plain": [
       "South        10801610\n",
       "West          8300445\n",
       "Midwest       7603810\n",
       "Northeast     5728347\n",
       "Name: Region, dtype: int64"
      ]
     },
     "execution_count": 13,
     "metadata": {},
     "output_type": "execute_result"
    }
   ],
   "source": [
    "# Check flag counts\n",
    "df_clean['Region'].value_counts()"
   ]
  },
  {
   "cell_type": "code",
   "execution_count": 14,
   "id": "ab6f76fd",
   "metadata": {},
   "outputs": [],
   "source": [
    "# create crosstab of spending against region\n",
    "spending_region = pd.crosstab(df_clean['Region'], df_clean['Spending_flag'], dropna = False)"
   ]
  },
  {
   "cell_type": "code",
   "execution_count": 15,
   "id": "4f1cabe8",
   "metadata": {},
   "outputs": [
    {
     "data": {
      "text/html": [
       "<div>\n",
       "<style scoped>\n",
       "    .dataframe tbody tr th:only-of-type {\n",
       "        vertical-align: middle;\n",
       "    }\n",
       "\n",
       "    .dataframe tbody tr th {\n",
       "        vertical-align: top;\n",
       "    }\n",
       "\n",
       "    .dataframe thead th {\n",
       "        text-align: right;\n",
       "    }\n",
       "</style>\n",
       "<table border=\"1\" class=\"dataframe\">\n",
       "  <thead>\n",
       "    <tr style=\"text-align: right;\">\n",
       "      <th>Spending_flag</th>\n",
       "      <th>High spender</th>\n",
       "      <th>Low spender</th>\n",
       "    </tr>\n",
       "    <tr>\n",
       "      <th>Region</th>\n",
       "      <th></th>\n",
       "      <th></th>\n",
       "    </tr>\n",
       "  </thead>\n",
       "  <tbody>\n",
       "    <tr>\n",
       "      <th>Midwest</th>\n",
       "      <td>7596096</td>\n",
       "      <td>7714</td>\n",
       "    </tr>\n",
       "    <tr>\n",
       "      <th>Northeast</th>\n",
       "      <td>5722788</td>\n",
       "      <td>5559</td>\n",
       "    </tr>\n",
       "    <tr>\n",
       "      <th>South</th>\n",
       "      <td>10791721</td>\n",
       "      <td>9889</td>\n",
       "    </tr>\n",
       "    <tr>\n",
       "      <th>West</th>\n",
       "      <td>8292030</td>\n",
       "      <td>8415</td>\n",
       "    </tr>\n",
       "  </tbody>\n",
       "</table>\n",
       "</div>"
      ],
      "text/plain": [
       "Spending_flag  High spender  Low spender\n",
       "Region                                  \n",
       "Midwest             7596096         7714\n",
       "Northeast           5722788         5559\n",
       "South              10791721         9889\n",
       "West                8292030         8415"
      ]
     },
     "execution_count": 15,
     "metadata": {},
     "output_type": "execute_result"
    }
   ],
   "source": [
    "# print results of spendingacrossregion\n",
    "spending_region"
   ]
  },
  {
   "cell_type": "code",
   "execution_count": 16,
   "id": "d5defaa3",
   "metadata": {},
   "outputs": [
    {
     "data": {
      "image/png": "[encoded data removed]",
      "text/plain": [
       "<Figure size 640x480 with 1 Axes>"
      ]
     },
     "metadata": {},
     "output_type": "display_data"
    }
   ],
   "source": [
    "#Creating a barplot using Crosstab function \n",
    "bar = spending_region.plot.bar()\n",
    "plt.title('Spending By Region')\n",
    "plt.legend(loc='center left', bbox_to_anchor=(1.0, 0.5))\n",
    "plt.gcf().axes[0].yaxis.get_major_formatter().set_scientific(False)"
   ]
  },
  {
   "cell_type": "code",
   "execution_count": 17,
   "id": "a597cff5",
   "metadata": {},
   "outputs": [],
   "source": [
    "# Export the bar chart\n",
    "bar.figure.savefig(os.path.join(path, '04 Analysis','Visualizations', 'bar_regional_spending.png'))"
   ]
  },
  {
   "cell_type": "code",
   "execution_count": 18,
   "id": "e962a27e",
   "metadata": {},
   "outputs": [],
   "source": [
    "#Exporting df_clean customer data\n",
    "df_clean.to_pickle(os.path.join(path, '02 Data', 'Prepared Data', 'instacart_clean.pkl'))"
   ]
  }
 ],
 "metadata": {
  "kernelspec": {
   "display_name": "Python 3 (ipykernel)",
   "language": "python",
   "name": "python3"
  },
  "language_info": {
   "codemirror_mode": {
    "name": "ipython",
    "version": 3
   },
   "file_extension": ".py",
   "mimetype": "text/x-python",
   "name": "python",
   "nbconvert_exporter": "python",
   "pygments_lexer": "ipython3",
   "version": "3.11.3"
  }
 },
 "nbformat": 4,
 "nbformat_minor": 5
}
